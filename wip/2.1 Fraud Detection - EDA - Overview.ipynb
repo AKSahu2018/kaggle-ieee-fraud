{
 "cells": [
  {
   "cell_type": "code",
   "execution_count": 1,
   "metadata": {},
   "outputs": [],
   "source": [
    "# Import libraries\n",
    "import pandas as pd\n",
    "import numpy as np\n",
    "import matplotlib.pyplot as plt\n",
    "import seaborn as sns\n",
    "import os\n",
    "import time\n",
    "\n",
    "from fast_ml import eda\n",
    "\n",
    "from fast_ml.utilities import display_all, reduce_memory_usage\n",
    "%matplotlib inline\n",
    "\n",
    "import warnings\n",
    "warnings.filterwarnings('ignore')"
   ]
  },
  {
   "cell_type": "markdown",
   "metadata": {},
   "source": [
    "##### Load the saved sample data - Feather Format"
   ]
  },
  {
   "cell_type": "code",
   "execution_count": 2,
   "metadata": {},
   "outputs": [
    {
     "name": "stdout",
     "output_type": "stream",
     "text": [
      "CPU times: user 1.24 s, sys: 827 ms, total: 2.07 s\n",
      "Wall time: 1.94 s\n",
      "Memory usage of dataframe is 183.67779541015625 MB\n",
      "Shape of dataframe is (200000, 394)\n"
     ]
    }
   ],
   "source": [
    "%time trans = pd.read_feather('tmp/train_transaction_sample')\n",
    "\n",
    "df_size = trans.memory_usage().sum() / 1024**2\n",
    "print(f'Memory usage of dataframe is {df_size} MB')\n",
    "print (f'Shape of dataframe is {trans.shape}')"
   ]
  },
  {
   "cell_type": "markdown",
   "metadata": {},
   "source": [
    "## EDA"
   ]
  },
  {
   "cell_type": "markdown",
   "metadata": {},
   "source": [
    "### Summary of the Dataset"
   ]
  },
  {
   "cell_type": "code",
   "execution_count": null,
   "metadata": {},
   "outputs": [],
   "source": [
    "# Using fast_ml function to get a summary view. display_all is a function imported from fast_ml.utilities\n",
    "summary_df = eda.df_summary(trans)\n",
    "display_all(summary_df)"
   ]
  },
  {
   "cell_type": "markdown",
   "metadata": {},
   "source": [
    "#### C1-C14 except C3\n",
    "* very long tail of values. \n",
    "* No missing value\n",
    "\n",
    "#### C3\n",
    "* Numerical type but looks like categorical\n",
    "\n",
    "#### M1-M9\n",
    "* Categorical variable with just 2 categories T & F\n",
    "* high perc of missing\n",
    "* M4 : is different it has M0, M1, M2\n",
    "* <b>Missing value imputation : </b> \n",
    "* <b>Rare Encoding : </b>\n",
    "* <b>Categorical Encoding : </b>\n",
    "\n",
    "#### V1-V11\n",
    "* Numeric type but looks like categorical\n",
    "* Same number of missing values. possible that same rows have missing values\n",
    "* high perc of missing ~48%. \n",
    "* <b>Missing value imputation : </b> use custom value imputation\n",
    "* <b>Rare Encoding : </b>\n",
    "* <b>Categorical Encoding : </b>\n",
    "\n",
    "\n",
    "#### V12-V34\n",
    "* Numeric type but looks like categorical\n",
    "* Same number of missing values. possible that same rows have missing values\n",
    "* high perc of missing ~13%. \n",
    "* Investigate whether frequent value imputation or custom value what would make more sense\n",
    "* <b>Missing value imputation : </b> \n",
    "* <b>Rare Encoding : </b>\n",
    "* <b>Categorical Encoding : </b>\n",
    "\n",
    "#### V34-V52\n",
    "* Numeric type but looks like categorical\n",
    "* Same number of missing values. possible that same rows have missing values\n",
    "* high perc of missing ~29%. \n",
    "* Investigate whether frequent value imputation or custom value what would make more sense\n",
    "* <b>Missing value imputation : </b> \n",
    "* <b>Rare Encoding : </b>\n",
    "* <b>Categorical Encoding : </b>\n",
    "\n",
    "\n",
    "#### V53-V74\n",
    "\n",
    "#### V75-V94\n",
    "\n",
    "#### V95-V137\n",
    "\n",
    "#### V138-V166\n",
    "\n",
    "\n",
    "---\n",
    "### Checking V variables\n",
    "#### Numeric type but Categorical \n",
    "* V1 - V94 They all look to have low cardinality\n",
    "* V107 - V125 They all look to have low cardinality\n",
    "\n",
    "#### Numerical\n",
    "* 95, 96, 97, 101, 102, 103, V126 - V137, \n",
    "\n",
    "#### Investigate further\n",
    "* 99, 105, 106"
   ]
  },
  {
   "cell_type": "markdown",
   "metadata": {},
   "source": [
    "## Identifying Categorical and Numerical Variable\n",
    "\n",
    "### 1. For V Variables"
   ]
  },
  {
   "cell_type": "code",
   "execution_count": 7,
   "metadata": {},
   "outputs": [],
   "source": [
    "V_vars = ['V'+str(i) for i in range(1,340)]"
   ]
  },
  {
   "cell_type": "code",
   "execution_count": null,
   "metadata": {},
   "outputs": [],
   "source": [
    "summary_df.query('num_unique_values < 100')"
   ]
  },
  {
   "cell_type": "markdown",
   "metadata": {},
   "source": [
    "### C1-C14 "
   ]
  },
  {
   "cell_type": "markdown",
   "metadata": {},
   "source": [
    "### Check V variables"
   ]
  },
  {
   "cell_type": "markdown",
   "metadata": {},
   "source": [
    "#### 1. V1-11"
   ]
  },
  {
   "cell_type": "code",
   "execution_count": null,
   "metadata": {},
   "outputs": [],
   "source": [
    "V_vars = ['V'+str(i) for i in range(1,12)]\n",
    "eda.categorical_plots(trans, V_vars, add_missing=True, add_rare=False, rare_tol=5)"
   ]
  },
  {
   "cell_type": "code",
   "execution_count": null,
   "metadata": {},
   "outputs": [],
   "source": [
    "eda.categorical_plots_with_target(trans, V_vars, target = 'isFraud', model = 'clf', add_missing=True)"
   ]
  },
  {
   "cell_type": "code",
   "execution_count": null,
   "metadata": {},
   "outputs": [],
   "source": [
    "# to check for rare encoding\n",
    "eda.categorical_plots_with_rare_and_target(trans, V_vars, target = 'isFraud', model='clf', rare_v1=5, rare_v2=10)"
   ]
  },
  {
   "cell_type": "code",
   "execution_count": 9,
   "metadata": {},
   "outputs": [
    {
     "data": {
      "text/plain": [
       "{0.2509765625,\n",
       " 25.953125,\n",
       " 35.9375,\n",
       " 49.0,\n",
       " 57.9375,\n",
       " 68.9375,\n",
       " 100.0,\n",
       " 117.0,\n",
       " 160.0,\n",
       " 275.0,\n",
       " 6452.0}"
      ]
     },
     "execution_count": 9,
     "metadata": {},
     "output_type": "execute_result"
    }
   ],
   "source": [
    "bins = set(list(np.percentile(trans['TransactionAmt'], [0, 10, 20, 30, 40, 50, 60, 70, 80, 90, 100])))\n",
    "bins"
   ]
  },
  {
   "cell_type": "code",
   "execution_count": 13,
   "metadata": {},
   "outputs": [
    {
     "name": "stdout",
     "output_type": "stream",
     "text": [
      "[0.2509765625, 25.953125, 35.9375, 49.0, 57.9375, 68.9375, 100.0, 117.0, 160.0, 275.0, 6452.0]\n",
      "{0.2509765625, 160.0, 35.9375, 68.9375, 100.0, 49.0, 275.0, 6452.0, 117.0, 25.953125, 57.9375}\n",
      "[0.2509765625, 25.953125, 35.9375, 49.0, 57.9375, 68.9375, 100.0, 117.0, 160.0, 275.0, 6452.0]\n"
     ]
    }
   ],
   "source": [
    "bins = list(np.percentile(trans['TransactionAmt'], [0, 10, 20, 30, 40, 50, 60, 70, 80, 90, 100]))\n",
    "print(bins)\n",
    "bins = set(list(np.percentile(trans['TransactionAmt'], [0, 10, 20, 30, 40, 50, 60, 70, 80, 90, 100])))\n",
    "print(bins)\n",
    "bins = sorted(bins)\n",
    "print(bins)"
   ]
  },
  {
   "cell_type": "code",
   "execution_count": 40,
   "metadata": {},
   "outputs": [
    {
     "name": "stdout",
     "output_type": "stream",
     "text": [
      "[0.0, 1.0, 1.0, 1.0, 1.0, 1.0, 2.0, 2.0, 3.0, 7.0, 4680.0]\n",
      "{0.0, 1.0, 2.0, 3.0, 7.0, 4680.0}\n",
      "[0.0, 1.0, 2.0, 3.0, 7.0, 4680.0]\n"
     ]
    }
   ],
   "source": [
    "var = 'C1'\n",
    "tmp = trans[var].dropna()\n",
    "bins = list(np.percentile(tmp, [0, 10, 20, 30, 40, 50, 60, 70, 80, 90, 100]))\n",
    "print(bins)\n",
    "\n",
    "bins = set(list(np.percentile(tmp, [0, 10, 20, 30, 40, 50, 60, 70, 80, 90, 100])))\n",
    "print(bins)\n",
    "\n",
    "bins = sorted(bins)\n",
    "print(bins)"
   ]
  },
  {
   "cell_type": "code",
   "execution_count": 38,
   "metadata": {},
   "outputs": [
    {
     "name": "stdout",
     "output_type": "stream",
     "text": [
      "[0.0, 1.0, 1.0, 1.0, 1.0, 1.0, 2.0, 2.0, 3.0, 7.0, 4680.0]\n",
      "[0.0, 1.0, 2.0, 3.0, 7.0, 4680.0]\n"
     ]
    }
   ],
   "source": [
    "var = 'C1'\n",
    "tmp = trans[var].dropna()\n",
    "bins = list(np.percentile(tmp, [0, 10, 20, 30, 40, 50, 60, 70, 80, 90, 100]))\n",
    "print(bins)\n",
    "\n",
    "unique_bins = []\n",
    "[unique_bins.append(b) for b in bins if b not in unique_bins]\n",
    "print(unique_bins)"
   ]
  },
  {
   "cell_type": "code",
   "execution_count": 52,
   "metadata": {},
   "outputs": [
    {
     "name": "stdout",
     "output_type": "stream",
     "text": [
      "[100.0, 111.0, 191.0, 260.0, 321.0, 361.0, 445.0, 490.0, 543.0, 555.0, 600.0]\n"
     ]
    }
   ],
   "source": [
    "option1 = [0, 10, 20, 30, 40, 50, 60, 70, 80, 90, 100]\n",
    "var = 'card2'\n",
    "target = 'isFraud'\n",
    "s = trans[var].dropna()\n",
    "bins = sorted(set(list(np.percentile(s, option1))))\n",
    "print(bins)"
   ]
  },
  {
   "cell_type": "code",
   "execution_count": 47,
   "metadata": {},
   "outputs": [
    {
     "data": {
      "text/plain": [
       "0         188.0\n",
       "1         170.0\n",
       "2         264.0\n",
       "3         462.0\n",
       "4         297.0\n",
       "          ...  \n",
       "199995    452.0\n",
       "199996    321.0\n",
       "199997    555.0\n",
       "199998    482.0\n",
       "199999    113.0\n",
       "Name: card2, Length: 196991, dtype: float16"
      ]
     },
     "execution_count": 47,
     "metadata": {},
     "output_type": "execute_result"
    }
   ],
   "source": [
    "s"
   ]
  },
  {
   "cell_type": "code",
   "execution_count": null,
   "metadata": {},
   "outputs": [],
   "source": [
    "tmp = trans.copy()\n",
    "tmp[var+'_bins'] = pd.cut(s, bins = bins, include_lowest=True)\n",
    "tmp[var+'_bins'] = tmp[var+'_bins'].astype('object')\n",
    "tmp[var+'_bins'].fillna('Missing', inplace = True)\n",
    "tmp[var+'_bins'].value_counts()"
   ]
  },
  {
   "cell_type": "code",
   "execution_count": 84,
   "metadata": {},
   "outputs": [
    {
     "name": "stdout",
     "output_type": "stream",
     "text": [
      "Index([(99.999, 111.0],  (111.0, 191.0],  (191.0, 260.0],  (260.0, 321.0],\n",
      "        (321.0, 361.0],  (361.0, 445.0],  (445.0, 490.0],  (490.0, 543.0],\n",
      "        (543.0, 555.0],  (555.0, 600.0],       'Missing'],\n",
      "      dtype='object', name='card2_bins')\n"
     ]
    },
    {
     "data": {
      "text/html": [
       "<div>\n",
       "<style scoped>\n",
       "    .dataframe tbody tr th:only-of-type {\n",
       "        vertical-align: middle;\n",
       "    }\n",
       "\n",
       "    .dataframe tbody tr th {\n",
       "        vertical-align: top;\n",
       "    }\n",
       "\n",
       "    .dataframe thead th {\n",
       "        text-align: right;\n",
       "    }\n",
       "</style>\n",
       "<table border=\"1\" class=\"dataframe\">\n",
       "  <thead>\n",
       "    <tr style=\"text-align: right;\">\n",
       "      <th>isFraud</th>\n",
       "      <th>card2_bins</th>\n",
       "      <th>target_0</th>\n",
       "      <th>target_1</th>\n",
       "      <th>total</th>\n",
       "      <th>total_perc</th>\n",
       "      <th>target_1_perc_overall</th>\n",
       "      <th>target_1_perc_within</th>\n",
       "    </tr>\n",
       "  </thead>\n",
       "  <tbody>\n",
       "    <tr>\n",
       "      <th>0</th>\n",
       "      <td>(99.999, 111.0]</td>\n",
       "      <td>19357</td>\n",
       "      <td>558</td>\n",
       "      <td>19915</td>\n",
       "      <td>9.9575</td>\n",
       "      <td>7.912649</td>\n",
       "      <td>2.801908</td>\n",
       "    </tr>\n",
       "    <tr>\n",
       "      <th>1</th>\n",
       "      <td>(111.0, 191.0]</td>\n",
       "      <td>18560</td>\n",
       "      <td>1009</td>\n",
       "      <td>19569</td>\n",
       "      <td>9.7845</td>\n",
       "      <td>14.307998</td>\n",
       "      <td>5.156114</td>\n",
       "    </tr>\n",
       "    <tr>\n",
       "      <th>2</th>\n",
       "      <td>(191.0, 260.0]</td>\n",
       "      <td>19221</td>\n",
       "      <td>402</td>\n",
       "      <td>19623</td>\n",
       "      <td>9.8115</td>\n",
       "      <td>5.700510</td>\n",
       "      <td>2.048616</td>\n",
       "    </tr>\n",
       "    <tr>\n",
       "      <th>3</th>\n",
       "      <td>(260.0, 321.0]</td>\n",
       "      <td>27875</td>\n",
       "      <td>1012</td>\n",
       "      <td>28887</td>\n",
       "      <td>14.4435</td>\n",
       "      <td>14.350539</td>\n",
       "      <td>3.503306</td>\n",
       "    </tr>\n",
       "    <tr>\n",
       "      <th>4</th>\n",
       "      <td>(321.0, 361.0]</td>\n",
       "      <td>12030</td>\n",
       "      <td>386</td>\n",
       "      <td>12416</td>\n",
       "      <td>6.2080</td>\n",
       "      <td>5.473625</td>\n",
       "      <td>3.108892</td>\n",
       "    </tr>\n",
       "    <tr>\n",
       "      <th>5</th>\n",
       "      <td>(361.0, 445.0]</td>\n",
       "      <td>17480</td>\n",
       "      <td>762</td>\n",
       "      <td>18242</td>\n",
       "      <td>9.1210</td>\n",
       "      <td>10.805445</td>\n",
       "      <td>4.177174</td>\n",
       "    </tr>\n",
       "    <tr>\n",
       "      <th>6</th>\n",
       "      <td>(445.0, 490.0]</td>\n",
       "      <td>22509</td>\n",
       "      <td>583</td>\n",
       "      <td>23092</td>\n",
       "      <td>11.5460</td>\n",
       "      <td>8.267158</td>\n",
       "      <td>2.524684</td>\n",
       "    </tr>\n",
       "    <tr>\n",
       "      <th>7</th>\n",
       "      <td>(490.0, 543.0]</td>\n",
       "      <td>16628</td>\n",
       "      <td>753</td>\n",
       "      <td>17381</td>\n",
       "      <td>8.6905</td>\n",
       "      <td>10.677822</td>\n",
       "      <td>4.332317</td>\n",
       "    </tr>\n",
       "    <tr>\n",
       "      <th>8</th>\n",
       "      <td>(543.0, 555.0]</td>\n",
       "      <td>22147</td>\n",
       "      <td>996</td>\n",
       "      <td>23143</td>\n",
       "      <td>11.5715</td>\n",
       "      <td>14.123653</td>\n",
       "      <td>4.303677</td>\n",
       "    </tr>\n",
       "    <tr>\n",
       "      <th>9</th>\n",
       "      <td>(555.0, 600.0]</td>\n",
       "      <td>14275</td>\n",
       "      <td>448</td>\n",
       "      <td>14723</td>\n",
       "      <td>7.3615</td>\n",
       "      <td>6.352808</td>\n",
       "      <td>3.042858</td>\n",
       "    </tr>\n",
       "    <tr>\n",
       "      <th>10</th>\n",
       "      <td>Missing</td>\n",
       "      <td>2866</td>\n",
       "      <td>143</td>\n",
       "      <td>3009</td>\n",
       "      <td>1.5045</td>\n",
       "      <td>2.027794</td>\n",
       "      <td>4.752409</td>\n",
       "    </tr>\n",
       "  </tbody>\n",
       "</table>\n",
       "</div>"
      ],
      "text/plain": [
       "isFraud       card2_bins  target_0  target_1  total  total_perc  \\\n",
       "0        (99.999, 111.0]     19357       558  19915      9.9575   \n",
       "1         (111.0, 191.0]     18560      1009  19569      9.7845   \n",
       "2         (191.0, 260.0]     19221       402  19623      9.8115   \n",
       "3         (260.0, 321.0]     27875      1012  28887     14.4435   \n",
       "4         (321.0, 361.0]     12030       386  12416      6.2080   \n",
       "5         (361.0, 445.0]     17480       762  18242      9.1210   \n",
       "6         (445.0, 490.0]     22509       583  23092     11.5460   \n",
       "7         (490.0, 543.0]     16628       753  17381      8.6905   \n",
       "8         (543.0, 555.0]     22147       996  23143     11.5715   \n",
       "9         (555.0, 600.0]     14275       448  14723      7.3615   \n",
       "10               Missing      2866       143   3009      1.5045   \n",
       "\n",
       "isFraud  target_1_perc_overall  target_1_perc_within  \n",
       "0                     7.912649              2.801908  \n",
       "1                    14.307998              5.156114  \n",
       "2                     5.700510              2.048616  \n",
       "3                    14.350539              3.503306  \n",
       "4                     5.473625              3.108892  \n",
       "5                    10.805445              4.177174  \n",
       "6                     8.267158              2.524684  \n",
       "7                    10.677822              4.332317  \n",
       "8                    14.123653              4.303677  \n",
       "9                     6.352808              3.042858  \n",
       "10                    2.027794              4.752409  "
      ]
     },
     "execution_count": 84,
     "metadata": {},
     "output_type": "execute_result"
    }
   ],
   "source": [
    "c1 = pd.crosstab(tmp[var+'_bins'], tmp[target])\n",
    "cat_order = (c1.index)\n",
    "print(cat_order)\n",
    "c1 = c1.reset_index()\n",
    "c1.rename(columns={0:'target_0', 1:'target_1'}, inplace=True)\n",
    "c1['total'] = c1['target_0'] + c1['target_1']\n",
    "c1['total_perc'] = 100*c1['total']/sum(c1['total'])\n",
    "c1['target_1_perc_overall'] = 100*c1['target_1']/sum(c1['target_1'])\n",
    "c1['target_1_perc_within'] = 100*c1['target_1']/( c1['target_0'] + c1['target_1'])\n",
    "c1"
   ]
  },
  {
   "cell_type": "code",
   "execution_count": 155,
   "metadata": {},
   "outputs": [],
   "source": [
    "def numerical_bins_with_target (df, variables, target, model='clf', method='10p', custom_buckets=None):\n",
    "\n",
    "    if method == '5p':\n",
    "        buckets = [0,5,10,15,20,25,30,35,40,45,50,55,60,65,70,75,80,85,90,95,100]\n",
    "    elif method == '10p':\n",
    "        buckets = [0, 10, 20, 30, 40, 50, 60, 70, 80, 90, 100]\n",
    "    elif method == '20p':\n",
    "        buckets = [0, 20, 40, 60, 80, 100]\n",
    "    elif method == '25p':\n",
    "        buckets = [0, 25, 50, 75, 100]\n",
    "    elif method == '95p':\n",
    "        buckets = [0, 10, 20, 30, 40, 50, 60, 70, 80, 90, 95, 100]\n",
    "    elif method == '98p':\n",
    "        buckets = [0, 10, 20, 30, 40, 50, 60, 70, 80, 90, 95, 98, 100]\n",
    "    elif method == 'custom':\n",
    "        buckets = custom_buckets\n",
    "\n",
    "    eda_df = df.copy()\n",
    "    for var in variables:\n",
    "        \n",
    "        s = eda_df[var].dropna()\n",
    "        bins = sorted(set(list(np.percentile(s, buckets))))\n",
    "        eda_df[var+'_bins'] = pd.cut(s, bins = bins, include_lowest=True)\n",
    "        eda_df[var+'_bins'] = eda_df[var+'_bins'].astype('object')\n",
    "        eda_df[var+'_bins'].fillna('Missing', inplace = True)\n",
    "\n",
    "        plot_df = pd.crosstab(eda_df[var+'_bins'], eda_df[target])\n",
    "        cat_order = (plot_df.index)\n",
    "        plot_df = plot_df.reset_index()\n",
    "        plot_df.rename(columns={0:'target_0', 1:'target_1'}, inplace=True)\n",
    "        plot_df['total'] = plot_df['target_0'] + plot_df['target_1']\n",
    "        plot_df['total_perc'] = 100*plot_df['total']/sum(plot_df['total'])\n",
    "        plot_df['target_1_perc_overall'] = 100*plot_df['target_1']/sum(plot_df['target_1'])\n",
    "        plot_df['target_1_perc_within'] = 100*plot_df['target_1']/( plot_df['target_0'] + plot_df['target_1'])\n",
    "        \n",
    "        # Graph 1\n",
    "        fig, ax = plt.subplots(figsize=(14,4))\n",
    "        plt.xticks(plot_df.index, cat_order, rotation = 90)\n",
    "        ax.bar(plot_df.index, plot_df['total_perc'], align = 'center', color = 'lightgrey')\n",
    "\n",
    "        ax2 = ax.twinx()\n",
    "        ax2 = sns.pointplot(data = plot_df, x=var+'_bins', y='target_1_perc_overall', order = cat_order, color='black')\n",
    "        ax.set_title(f'Event rate of target ({target}) across all categories of variable ({var}) Bins', fontsize=17)\n",
    "        #ax.set_xlabel(var, fontsize=14)\n",
    "        ax.set_ylabel('Perc of Categories', fontsize=14)\n",
    "        ax2.set_ylabel(\"Perc of Events across all Categories\", fontsize=14)\n",
    "        hline1 = plot_df['target_1_perc_overall'].mean()\n",
    "        ax2.axhline(y=hline1, color = 'darkred')\n",
    "        plt.show()\n",
    "\n",
    "        # Graph 2\n",
    "        fig, ax = plt.subplots(figsize=(14,4))\n",
    "        plt.xticks(plot_df.index, cat_order, rotation = 90)\n",
    "        ax.bar(plot_df.index, plot_df['total_perc'], align = 'center', color = 'lightgrey')\n",
    "\n",
    "        ax2 = ax.twinx()\n",
    "        ax2 = sns.pointplot(data = plot_df, x=var+'_bins', y='target_1_perc_within', order = cat_order, color='green')\n",
    "        ax.set_title(f'Event Rate of target ({target}) within each category of variable ({var}) Bins', fontsize=17)\n",
    "        ax2.set_ylabel(\"Perc of Events within Category\", fontsize=14)\n",
    "        #ax.set_xlabel(var, fontsize=14)\n",
    "        ax.set_ylabel('Perc of Categories', fontsize=14)\n",
    "        hline2 = plot_df['target_1_perc_within'].mean()\n",
    "        ax2.axhline(y=hline2, color = 'magenta')\n",
    "        plt.show()"
   ]
  },
  {
   "cell_type": "code",
   "execution_count": 176,
   "metadata": {},
   "outputs": [
    {
     "data": {
      "image/png": "[encoded data removed]",
      "text/plain": [
       "<Figure size 1008x288 with 2 Axes>"
      ]
     },
     "metadata": {
      "needs_background": "light"
     },
     "output_type": "display_data"
    },
    {
     "data": {
      "image/png": "[encoded data removed]",
      "text/plain": [
       "<Figure size 1008x288 with 2 Axes>"
      ]
     },
     "metadata": {
      "needs_background": "light"
     },
     "output_type": "display_data"
    }
   ],
   "source": [
    "custom_b = [0,5,25,40,55,75,80,100]\n",
    "numerical_bins_with_target(trans, ['card1'], target = 'isFraud', method = 'custom', custom_buckets=custom_b)"
   ]
  },
  {
   "cell_type": "code",
   "execution_count": null,
   "metadata": {},
   "outputs": [],
   "source": [
    "[0,5,25,40,55,75,80,100]"
   ]
  }
 ],
 "metadata": {
  "kernelspec": {
   "display_name": "Python 3",
   "language": "python",
   "name": "python3"
  },
  "language_info": {
   "codemirror_mode": {
    "name": "ipython",
    "version": 3
   },
   "file_extension": ".py",
   "mimetype": "text/x-python",
   "name": "python",
   "nbconvert_exporter": "python",
   "pygments_lexer": "ipython3",
   "version": "3.7.6"
  }
 },
 "nbformat": 4,
 "nbformat_minor": 4
}
