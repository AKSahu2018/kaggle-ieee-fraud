{
 "cells": [
  {
   "cell_type": "code",
   "execution_count": null,
   "metadata": {},
   "outputs": [],
   "source": [
    "def tree_binning(df,target,var):\n",
    "    \n",
    "    \n",
    "    \"\"\"\n",
    "    Parameters:\n",
    "    -----------\n",
    "        df : Dataframe for which Binning to be performed\n",
    "        target : Target variable\n",
    "        var : Numerical Variable for which binning to be performed\n",
    "    Returns:\n",
    "    --------\n",
    "        Dataframe with the binned variable\n",
    "    \"\"\"\n",
    "    \n",
    "    \n",
    "    tree_model = DecisionTreeClassifier(max_depth=3)\n",
    "    df1=train_sample_raw[[target,var]].copy()\n",
    "    df1.dropna(inplace=True)\n",
    "    tree_model.fit(df1[var].to_frame(), df1[target])\n",
    "    df1[var+\"_tree\"]=tree_model.predict_proba(df1[var].to_frame())[:,1]\n",
    "    print('\\n\\n The Probability of events are : \\n')\n",
    "    print(df1[var+\"_tree\"].unique())\n",
    "    print('\\n \\n The Bins created are : \\n')\n",
    "    df_bin=pd.concat( [df1.groupby([var+\"_tree\"])[var].min(),df1.groupby([var+\"_tree\"])[var].max()] ,axis=1)\n",
    "    df_bin.columns=[var+\"_min\",var+\"_max\"]\n",
    "    df_bin.sort_values(by=[var+'_min'],inplace=True)\n",
    "    print(df_bin)\n",
    "    df_bin[var+\"_max\"].iloc[-1]=np.inf\n",
    "    print('\\n\\n The Bins after including right limit as infinity : \\n')\n",
    "    print(df_bin)\n",
    "    bins = pd.IntervalIndex.from_tuples([(df_bin[var+'_min'][i],df_bin[var+'_max'][i]) for i in df_bin.index])\n",
    "    print('\\n\\nThe bins created are : \\n')\n",
    "    print(bins)\n",
    "    df[var+'_bin']=pd.cut(df[var],bins,include_lowest=True)\n",
    "    print('\\n\\n The Count distribution of bins\\n')\n",
    "    print(df[var+'_bin'].value_counts())\n",
    "    tree.plot_tree(tree_model)\n",
    "    return (df)"
   ]
  },
  {
   "cell_type": "code",
   "execution_count": null,
   "metadata": {},
   "outputs": [],
   "source": [
    "# Binning the train data variable D1\n",
    "\n",
    "train_sample_raw=tree_binning(train_sample_raw,'isFraud','D1')\n"
   ]
  },
  {
   "cell_type": "code",
   "execution_count": null,
   "metadata": {},
   "outputs": [],
   "source": [
    "# Binning the test data variable D1\n",
    "\n",
    "test_sample_raw=tree_binning(test_sample_raw,'isFraud','D1')"
   ]
  },
  {
   "cell_type": "code",
   "execution_count": null,
   "metadata": {},
   "outputs": [],
   "source": [
    "def  categorical_plots_with_target(df, variables, target, model='clf', add_missing = True):\n",
    "    \n",
    "    \"\"\"\n",
    "    Parameters:\n",
    "    -----------\n",
    "        df : Dataframe for which Analysis to be performed\n",
    "        variables : input type list. All the categorical variables needed for plotting\n",
    "        target : Target variable\n",
    "        model : type of problem - classification or regression\n",
    "                For classification related analysis. use 'classification' or 'clf'\n",
    "                For regression related analysis. use 'regression' or 'reg'\n",
    "        add_missing : default True. if True it will replace missing values by 'Missing'\n",
    "        \n",
    "    Returns:\n",
    "    --------\n",
    "        Category plots for all the variables\n",
    "    \n",
    "    \"\"\"\n",
    "    \n",
    "    eda_df = df.copy(deep=True)\n",
    "    length_df = len(eda_df)\n",
    "\n",
    "    for i, var in enumerate(variables, 1):\n",
    "\n",
    "        printmd (f'**<u> {i}. Plot for {var}</u>**')\n",
    "        \n",
    "        if add_missing:\n",
    "            eda_df[var] = eda_df[var].cat.add_categories('Missing')\n",
    "            eda_df[var] = eda_df[var].fillna('Missing')\n",
    "        \n",
    "        plot_df =  calculate_mean_target_per_category (eda_df, var, target)\n",
    "        #print(plot_df)\n",
    "        plot_df.sort_index(axis = 0,inplace=True) \n",
    "        #print(plot_df)\n",
    "        cat_order = list(plot_df[var])\n",
    "        #print(cat_order)\n",
    "\n",
    "        if model in('clf' or 'classification'):\n",
    "            plot_df[target] = 100*plot_df[target]\n",
    "\n",
    "        \n",
    "\n",
    "        fig, ax = plt.subplots(figsize=(12,4))\n",
    "        plt.xticks(plot_df.index, plot_df[var], rotation = 90)\n",
    "\n",
    "        ax.bar(plot_df.index, plot_df['perc'], align = 'center', color = 'lightgrey')\n",
    "        \n",
    "        \n",
    "        ax2 = ax.twinx()\n",
    "        ax2 = sns.pointplot(data = plot_df, x=var, y=target, order = cat_order, color='green')\n",
    "\n",
    "\n",
    "        if model in('clf' or 'classification'):\n",
    "            ax.set_title(f'Event Rate of target ({target}) within each category of variable ({var})', fontsize=17)\n",
    "            ax2.set_ylabel(\"Perc of Events within Category\", fontsize=14)\n",
    "            #ax.set_xlabel(var, fontsize=14)\n",
    "            ax.set_ylabel('Perc of Categories', fontsize=14)\n",
    "\n",
    "        elif model in('reg' or 'regression'):\n",
    "            ax.set_title(f'Mean value of target ({target}) within each category of variable ({var})', fontsize=17)\n",
    "            ax2.set_ylabel('Mean Target Value', fontsize=14) \n",
    "            #ax.set_xlabel(var, fontsize=14)\n",
    "            ax.set_ylabel('Perc of Categories', fontsize=14)\n",
    "               \n",
    "\n",
    "        plt.show()\n",
    "\n",
    "        display_all(plot_df.set_index(var).transpose())"
   ]
  },
  {
   "cell_type": "code",
   "execution_count": null,
   "metadata": {},
   "outputs": [],
   "source": [
    "# Plotting the variables after binning for train\n",
    "categorical_plots_with_target(train_sample_raw, variables=['D1_bin'], target='isFraud', model='clf')"
   ]
  },
  {
   "cell_type": "code",
   "execution_count": null,
   "metadata": {},
   "outputs": [],
   "source": [
    "# Plotting the variables after binning for test\n",
    "categorical_plots_with_target(test_sample_raw, variables=['D1_bin'], target='isFraud', model='clf')"
   ]
  }
 ],
 "metadata": {
  "kernelspec": {
   "display_name": "Python 3",
   "language": "python",
   "name": "python3"
  },
  "language_info": {
   "codemirror_mode": {
    "name": "ipython",
    "version": 3
   },
   "file_extension": ".py",
   "mimetype": "text/x-python",
   "name": "python",
   "nbconvert_exporter": "python",
   "pygments_lexer": "ipython3",
   "version": "3.8.3"
  }
 },
 "nbformat": 4,
 "nbformat_minor": 4
}
